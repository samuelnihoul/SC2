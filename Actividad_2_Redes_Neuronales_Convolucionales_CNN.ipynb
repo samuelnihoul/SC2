{
  "nbformat": 4,
  "nbformat_minor": 0,
  "metadata": {
    "colab": {
      "name": "Actividad_2_Redes_Neuronales_Convolucionales_CNN.ipynb",
      "provenance": [],
      "collapsed_sections": []
    },
    "kernelspec": {
      "name": "python3",
      "display_name": "Python 3"
    },
    "accelerator": "GPU"
  },
  "cells": [
    {
      "cell_type": "markdown",
      "metadata": {
        "id": "mX8gZlVyCCbz"
      },
      "source": [
        "# ACTIVIDAD 2: REDES NEURONALES CONVOLUCIONALES\n",
        "\n",
        "---\n",
        "\n",
        "En esta actividad, vamos a trabajar con Convolutional Neural Networks para resolver un problema de clasificación de imágenes. En particular, vamos a clasificar imágenes de personajes de la conocida serie de los Simpsons.\n",
        "\n",
        "Como las CNN profundas son un tipo de modelo bastante avanzado y computacionalmente costoso, se recomienda hacer la práctica en Google Colaboratory con soporte para GPUs. En [este enlace](https://medium.com/deep-learning-turkey/google-colab-free-gpu-tutorial-e113627b9f5d) se explica cómo activar un entorno con GPUs. *Nota: para leer las imágenes y estandarizarlas al mismo tamaño se usa la librería opencv. Esta ĺibrería está ya instalada en el entorno de Colab, pero si trabajáis de manera local tendréis que instalarla.*\n",
        "\n",
        "<center><img src=\"https://i.imgur.com/i8zIGqX.jpg\" style=\"text-align: center\" height=\"300px\"></center>\n",
        "\n",
        "El dataset a utilizar consiste en imágenes de personajes de los Simpsons extraídas directamente de capítulos de la serie. Este dataset ha sido recopilado por [Alexandre Attia](http://www.alexattia.fr/) y es más complejo que el dataset de Fashion MNIST que hemos utilizado hasta ahora. Aparte de tener más clases (vamos a utilizar los 18 personajes con más imágenes), los personajes pueden aparecer en distintas poses, en distintas posiciones de la imagen o con otros personajes en pantalla (si bien el personaje a clasificar siempre aparece en la posición predominante).\n",
        "\n",
        "El dataset de training puede ser descargado desde aquí:\n",
        "\n",
        "[Training data](https://onedrive.live.com/download?cid=C506CF0A4F373B0F&resid=C506CF0A4F373B0F%219337&authkey=AMzI92bJPx8Sd60) (~500MB)\n",
        "\n",
        "Por otro lado, el dataset de test puede ser descargado de aquí:\n",
        "\n",
        "[Test data](https://onedrive.live.com/download?cid=C506CF0A4F373B0F&resid=C506CF0A4F373B0F%219341&authkey=ANnjK3Uq1FhuAe8) (~10MB)\n",
        "\n",
        "Antes de empezar la práctica, se recomienda descargar las imágenes y echarlas un vistazo.\n"
      ]
    },
    {
      "cell_type": "markdown",
      "metadata": {
        "id": "QI274F8LQC59"
      },
      "source": [
        "## Carga de los datos"
      ]
    },
    {
      "cell_type": "code",
      "metadata": {
        "id": "D7tKOZ9BFfki"
      },
      "source": [
        "import cv2\n",
        "import os\n",
        "import numpy as np \n",
        "import keras\n",
        "from tensorflow import keras\n",
        "import matplotlib.pyplot as plt\n",
        "import glob\n",
        "import tensorflow as tf\n",
        "\n"
      ],
      "execution_count": null,
      "outputs": []
    },
    {
      "cell_type": "code",
      "source": [
        "# Primero, bajamos los datos de entrenamiento\n",
        "keras.utils.get_file(fname=\"simpsons_train.tar.gz\", \n",
        "                     origin=\"https://onedrive.live.com/download?cid=C506CF0A4F373B0F&resid=C506CF0A4F373B0F%219337&authkey=AMzI92bJPx8Sd60\")\n",
        "\n",
        "# Descomprimimos el archivo\n",
        "!tar -xzf /root/.keras/datasets/simpsons_train.tar.gz -C /root/.keras/datasets\n",
        "\n",
        "\n",
        "# Hacemos lo mismo con los datos de test\n",
        "keras.utils.get_file(fname=\"simpsons_test.tar.gz\", \n",
        "                     origin=\"https://onedrive.live.com/download?cid=C506CF0A4F373B0F&resid=C506CF0A4F373B0F%219341&authkey=ANnjK3Uq1FhuAe8\")\n",
        "!tar -xzf /root/.keras/datasets/simpsons_test.tar.gz -C /root/.keras/datasets"
      ],
      "metadata": {
        "id": "iw0apA7ruy1c",
        "colab": {
          "base_uri": "https://localhost:8080/"
        },
        "outputId": "6a1b90ab-79c2-49a5-88e0-54e5a9afd612"
      },
      "execution_count": null,
      "outputs": [
        {
          "output_type": "stream",
          "name": "stdout",
          "text": [
            "Downloading data from https://onedrive.live.com/download?cid=C506CF0A4F373B0F&resid=C506CF0A4F373B0F%219337&authkey=AMzI92bJPx8Sd60\n",
            "523796480/523789527 [==============================] - 54s 0us/step\n",
            "523804672/523789527 [==============================] - 54s 0us/step\n",
            "Downloading data from https://onedrive.live.com/download?cid=C506CF0A4F373B0F&resid=C506CF0A4F373B0F%219341&authkey=ANnjK3Uq1FhuAe8\n",
            "10665984/10658925 [==============================] - 3s 0us/step\n",
            "10674176/10658925 [==============================] - 3s 0us/step\n"
          ]
        }
      ]
    },
    {
      "cell_type": "code",
      "source": [
        "# Descomprimimos el archivo en tmp para visualizar\n",
        "!tar -xzf /root/.keras/datasets/simpsons_train.tar.gz -C /tmp/simpsons"
      ],
      "metadata": {
        "id": "_HIhp512sPUJ",
        "colab": {
          "base_uri": "https://localhost:8080/"
        },
        "outputId": "07e546ca-c3ed-4035-d156-7bf03acc9dc6"
      },
      "execution_count": null,
      "outputs": [
        {
          "output_type": "stream",
          "name": "stdout",
          "text": [
            "tar: /tmp/simpsons: Cannot open: No such file or directory\n",
            "tar: Error is not recoverable: exiting now\n"
          ]
        }
      ]
    },
    {
      "cell_type": "code",
      "metadata": {
        "id": "hMFhe3COFwSD"
      },
      "source": [
        "# Esta variable contiene un mapeo de número de clase a personaje.\n",
        "# Utilizamos sólo los 18 personajes del dataset que tienen más imágenes.\n",
        "MAP_CHARACTERS = {\n",
        "    0: 'abraham_grampa_simpson', 1: 'apu_nahasapeemapetilon', 2: 'bart_simpson',\n",
        "    3: 'charles_montgomery_burns', 4: 'chief_wiggum', 5: 'comic_book_guy', 6: 'edna_krabappel', \n",
        "    7: 'homer_simpson', 8: 'kent_brockman', 9: 'krusty_the_clown', 10: 'lisa_simpson', \n",
        "    11: 'marge_simpson', 12: 'milhouse_van_houten', 13: 'moe_szyslak', \n",
        "    14: 'ned_flanders', 15: 'nelson_muntz', 16: 'principal_skinner', 17: 'sideshow_bob'\n",
        "}\n",
        "\n",
        "# Vamos a standarizar todas las imágenes a tamaño 64x64\n",
        "IMG_SIZE = 60"
      ],
      "execution_count": null,
      "outputs": []
    },
    {
      "cell_type": "code",
      "metadata": {
        "id": "5bJ0NsbCbupF"
      },
      "source": [
        "def load_train_set(dirname, map_characters, verbose=True):\n",
        "    \"\"\"Esta función carga los datos de training en imágenes.\n",
        "    \n",
        "    Como las imágenes tienen tamaños distintas, utilizamos la librería opencv\n",
        "    para hacer un resize y adaptarlas todas a tamaño IMG_SIZE x IMG_SIZE.\n",
        "    \n",
        "    Args:\n",
        "        dirname: directorio completo del que leer los datos\n",
        "        map_characters: variable de mapeo entre labels y personajes\n",
        "        verbose: si es True, muestra información de las imágenes cargadas\n",
        "     \n",
        "    Returns:\n",
        "        X, y: X es un array con todas las imágenes cargadas con tamaño\n",
        "                IMG_SIZE x IMG_SIZE\n",
        "              y es un array con las labels de correspondientes a cada imagen\n",
        "    \"\"\"\n",
        "    X_train = []\n",
        "    y_train = []\n",
        "    for label, character in map_characters.items():        \n",
        "        files = os.listdir(os.path.join(dirname, character))\n",
        "        images = [file for file in files if file.endswith(\"jpg\")]\n",
        "        if verbose:\n",
        "          print(\"Leyendo {} imágenes encontradas de {}\".format(len(images), character))\n",
        "        for image_name in images:\n",
        "            image = cv2.imread(os.path.join(dirname, character, image_name))\n",
        "            X_train.append(cv2.resize(image,(IMG_SIZE, IMG_SIZE)))\n",
        "            y_train.append(label)\n",
        "    return np.array(X_train), np.array(y_train)"
      ],
      "execution_count": null,
      "outputs": []
    },
    {
      "cell_type": "code",
      "metadata": {
        "id": "NslxhnnDK6uA"
      },
      "source": [
        "def load_test_set(dirname, map_characters, verbose=True):\n",
        "    \"\"\"Esta función funciona de manera equivalente a la función load_train_set\n",
        "    pero cargando los datos de test.\"\"\"\n",
        "    X_test = []\n",
        "    y_test = []\n",
        "    reverse_dict = {v: k for k, v in map_characters.items()}\n",
        "    for filename in glob.glob(dirname + '/*.*'):\n",
        "        char_name = \"_\".join(filename.split('/')[-1].split('_')[:-1])\n",
        "        if char_name in reverse_dict:\n",
        "            image = cv2.imread(filename)\n",
        "            image = cv2.resize(image, (IMG_SIZE, IMG_SIZE))\n",
        "            X_test.append(image)\n",
        "            y_test.append(reverse_dict[char_name])\n",
        "    if verbose:\n",
        "        print(\"Leídas {} imágenes de test\".format(len(X_test)))\n",
        "    return np.array(X_test), np.array(y_test)\n"
      ],
      "execution_count": null,
      "outputs": []
    },
    {
      "cell_type": "code",
      "metadata": {
        "id": "WVWqKxFcbwTu",
        "colab": {
          "base_uri": "https://localhost:8080/"
        },
        "outputId": "74578ab5-f1c0-4eae-a6c7-edd0899c9044"
      },
      "source": [
        "# Cargamos los datos. Si no estás trabajando en colab, cambia los paths por\n",
        "# los de los ficheros donde hayas descargado los datos.\n",
        "DATASET_TRAIN_PATH_COLAB = \"/root/.keras/datasets/simpsons\"\n",
        "DATASET_TEST_PATH_COLAB = \"/root/.keras/datasets/simpsons_testset\"\n",
        "\n",
        "X, y = load_train_set(DATASET_TRAIN_PATH_COLAB, MAP_CHARACTERS)\n",
        "X_t, y_t = load_test_set(DATASET_TEST_PATH_COLAB, MAP_CHARACTERS)"
      ],
      "execution_count": null,
      "outputs": [
        {
          "output_type": "stream",
          "name": "stdout",
          "text": [
            "Leyendo 913 imágenes encontradas de abraham_grampa_simpson\n",
            "Leyendo 623 imágenes encontradas de apu_nahasapeemapetilon\n",
            "Leyendo 1342 imágenes encontradas de bart_simpson\n",
            "Leyendo 1193 imágenes encontradas de charles_montgomery_burns\n",
            "Leyendo 986 imágenes encontradas de chief_wiggum\n",
            "Leyendo 469 imágenes encontradas de comic_book_guy\n",
            "Leyendo 457 imágenes encontradas de edna_krabappel\n",
            "Leyendo 2246 imágenes encontradas de homer_simpson\n",
            "Leyendo 498 imágenes encontradas de kent_brockman\n",
            "Leyendo 1206 imágenes encontradas de krusty_the_clown\n",
            "Leyendo 1354 imágenes encontradas de lisa_simpson\n",
            "Leyendo 1291 imágenes encontradas de marge_simpson\n",
            "Leyendo 1079 imágenes encontradas de milhouse_van_houten\n",
            "Leyendo 1452 imágenes encontradas de moe_szyslak\n",
            "Leyendo 1454 imágenes encontradas de ned_flanders\n",
            "Leyendo 358 imágenes encontradas de nelson_muntz\n",
            "Leyendo 1194 imágenes encontradas de principal_skinner\n",
            "Leyendo 877 imágenes encontradas de sideshow_bob\n",
            "Leídas 890 imágenes de test\n"
          ]
        }
      ]
    },
    {
      "cell_type": "code",
      "metadata": {
        "id": "2GY4vTFyfffv"
      },
      "source": [
        "# Vamos a barajar aleatoriamente los datos. Esto es importante ya que si no\n",
        "# lo hacemos y, por ejemplo, cogemos el 20% de los datos finales como validation\n",
        "# set, estaremos utilizando solo un pequeño número de personajes, ya que\n",
        "# las imágenes se leen secuencialmente personaje a personaje.\n",
        "perm = np.random.permutation(len(X))\n",
        "X, y = X[perm], y[perm]"
      ],
      "execution_count": null,
      "outputs": []
    },
    {
      "cell_type": "code",
      "source": [
        "plt.imshow(X_t[0]) # recordad que siempre es preferible trabajar en blanco y negro\n"
      ],
      "metadata": {
        "colab": {
          "base_uri": "https://localhost:8080/",
          "height": 285
        },
        "id": "IOoQ7_0GrylF",
        "outputId": "bbe329a3-d887-4621-df43-07836fb6d8f0"
      },
      "execution_count": null,
      "outputs": [
        {
          "output_type": "execute_result",
          "data": {
            "text/plain": [
              "<matplotlib.image.AxesImage at 0x7fd012e663d0>"
            ]
          },
          "metadata": {},
          "execution_count": 9
        },
        {
          "output_type": "display_data",
          "data": {
            "text/plain": [
              "<Figure size 432x288 with 1 Axes>"
            ],
            "image/png": "[encoded data removed]"
          },
          "metadata": {
            "needs_background": "light"
          }
        }
      ]
    },
    {
      "cell_type": "markdown",
      "metadata": {
        "id": "pBbmz9DMhVhc"
      },
      "source": [
        "## Ejercicio\n",
        "\n",
        "Utilizando Convolutional Neural Networks con Keras, entrenar un clasificador que sea capaz de reconocer personajes en imágenes de los Simpsons con una accuracy en el dataset de test de, al menos, **85%**. Redactar un informe analizando varias de las alternativas probadas y los resultados obtenidos.\n",
        "\n",
        "A continuación se detallan una serie de aspectos orientativos que podrían ser analizados en vuestro informe (no es necesario tratar todos ellos ni mucho menos, esto son ideas orientativas de aspectos que podéis explorar):\n",
        "\n",
        "*   Análisis de los datos a utilizar.\n",
        "*   Análisis de resultados, obtención de métricas de *precision* y *recall* por clase y análisis de qué clases obtienen mejores o peores resultados.\n",
        "*   Análisis visual de los errores de la red. ¿Qué tipo de imágenes o qué personajes dan más problemas a nuestro modelo?\n",
        "*   Comparación de modelos CNNs con un modelo de Fully Connected para este problema.\n",
        "*   Utilización de distintas arquitecturas CNNs, comentando aspectos como su profundidad, hiperparámetros utilizados, optimizador, uso de técnicas de regularización, *batch normalization*, etc.\n",
        "*   [ *algo más difícil* ] Utilización de *data augmentation*. Esto puede conseguirse con la clase [ImageDataGenerator](https://keras.io/preprocessing/image/#imagedatagenerator-class) de Keras.\n",
        "\n",
        "Notas: \n",
        "* Recuerda partir los datos en training/validation para tener una buena estimación de los valores que nuestro modelo tendrá en los datos de test, así como comprobar que no estamos cayendo en overfitting. Una posible partición puede ser 80 / 20.\n",
        "* No es necesario mostrar en el notebook las trazas de entrenamiento de todos los modelos entrenados, si bien una buena idea seria guardar gráficas de esos entrenamientos para el análisis. Sin embargo, **se debe mostrar el entrenamiento completo del mejor modelo obtenido y la evaluación de los datos de test con este modelo**.\n",
        "* Las imágenes **no están normalizadas**. Hay que normalizarlas como hemos hecho en trabajos anteriores.\n",
        "* El test set del problema tiene imágenes un poco más \"fáciles\", por lo que es posible encontrarse con métricas en el test set bastante mejores que en el training set."
      ]
    },
    {
      "cell_type": "code",
      "source": [
        "\n",
        "X.shape,y,np.unique(y)\n",
        "\n",
        "\n"
      ],
      "metadata": {
        "id": "PyqZAqGTrkTL",
        "colab": {
          "base_uri": "https://localhost:8080/"
        },
        "outputId": "32907dad-2e3c-431f-fb01-5d5dc4a4e49b"
      },
      "execution_count": null,
      "outputs": [
        {
          "output_type": "execute_result",
          "data": {
            "text/plain": [
              "((18992, 60, 60, 3),\n",
              " array([ 6, 14,  9, ..., 17, 17, 10]),\n",
              " array([ 0,  1,  2,  3,  4,  5,  6,  7,  8,  9, 10, 11, 12, 13, 14, 15, 16,\n",
              "        17]))"
            ]
          },
          "metadata": {},
          "execution_count": 11
        }
      ]
    },
    {
      "cell_type": "code",
      "source": [
        "#Put all images to grayscale\n",
        "import cv2\n",
        "gX=[]\n",
        "for i in X:\n",
        "  gX.append(cv2.cvtColor(i,cv2.COLOR_BGR2GRAY))\n",
        "gX=np.array(gX)\n",
        "gX.reshape(18992,1,60,60)\n",
        "gX=gX.astype(\"float32\")\n",
        "gX=gX/255"
      ],
      "metadata": {
        "id": "A-XZdD0juRQM"
      },
      "execution_count": null,
      "outputs": []
    },
    {
      "cell_type": "code",
      "source": [
        "y=keras.utils.to_categorical(y,18)"
      ],
      "metadata": {
        "id": "Y-DaqF0K4Vb3"
      },
      "execution_count": null,
      "outputs": []
    },
    {
      "cell_type": "code",
      "source": [
        "from keras import Sequential\n",
        "from keras.layers import Conv2D,Dense,Flatten\n",
        "\n",
        "model=Sequential()\n",
        "model.add(Conv2D(64,(3,3),input_shape=(60,60,1)))\n",
        "model.add(Flatten())\n",
        "model.add(Dense(18))\n",
        "\n",
        "\n"
      ],
      "metadata": {
        "id": "6AEVl-3quRSt"
      },
      "execution_count": null,
      "outputs": []
    },
    {
      "cell_type": "code",
      "source": [
        "model.compile(metrics=['accuracy'],loss=keras.losses.categorical_crossentropy)\n"
      ],
      "metadata": {
        "id": "C0HvJYqu2NOl"
      },
      "execution_count": null,
      "outputs": []
    },
    {
      "cell_type": "code",
      "source": [
        "print(gX.shape)\n",
        "model.fit(gX,y,validation_split=0.2)"
      ],
      "metadata": {
        "colab": {
          "base_uri": "https://localhost:8080/"
        },
        "id": "lwC2GkiI2Wyg",
        "outputId": "9c5b1a57-dba7-459b-99c8-42edcf2132fb"
      },
      "execution_count": null,
      "outputs": [
        {
          "output_type": "stream",
          "name": "stdout",
          "text": [
            "(18992, 60, 60)\n",
            "475/475 [==============================] - 20s 19ms/step - loss: 8.5110 - accuracy: 0.1176 - val_loss: 8.9649 - val_accuracy: 0.1150\n"
          ]
        },
        {
          "output_type": "execute_result",
          "data": {
            "text/plain": [
              "<keras.callbacks.History at 0x7feb91540510>"
            ]
          },
          "metadata": {},
          "execution_count": 16
        }
      ]
    },
    {
      "cell_type": "markdown",
      "source": [
        "JAVIER CÓDIGO"
      ],
      "metadata": {
        "id": "SOxX2gLXHHQ3"
      }
    },
    {
      "cell_type": "code",
      "source": [
        "def plot_accuracy_loss(history):\n",
        "    fig = plt.figure(figsize=(15,10))\n",
        " \n",
        "    # Plot accuracy\n",
        "    plt.subplot(221)\n",
        "    plt.plot(history.history['accuracy'],'bo--', label = \"accuracy\")\n",
        "    plt.plot(history.history['val_accuracy'], 'ro--', label = \"val_accuracy\")\n",
        "    plt.title(\"train_acc vs val_acc\")\n",
        "    plt.ylabel(\"accuracy\")\n",
        "    plt.xlabel(\"epochs\")\n",
        "    plt.legend()\n",
        " \n",
        "    # Plot loss function\n",
        "    plt.subplot(222)\n",
        "    plt.plot(history.history['loss'],'bo--', label = \"loss\")\n",
        "    plt.plot(history.history['val_loss'], 'ro--', label = \"val_loss\")\n",
        "    plt.title(\"train_loss vs val_loss\")\n",
        "    plt.ylabel(\"loss\")\n",
        "    plt.xlabel(\"epochs\")\n",
        " \n",
        "    plt.legend()\n",
        "    plt.show()"
      ],
      "metadata": {
        "id": "YQ2ooq2qHVBT"
      },
      "execution_count": null,
      "outputs": []
    },
    {
      "cell_type": "code",
      "source": [
        "training_images  = X\n",
        "training_labels = y\n",
        "test_images = X_t\n",
        "test_labels = y_t"
      ],
      "metadata": {
        "id": "5XgKb9-m2aFF"
      },
      "execution_count": null,
      "outputs": []
    },
    {
      "cell_type": "code",
      "source": [
        "training_images  = training_images / 255.0\n",
        "test_images = test_images / 255.0"
      ],
      "metadata": {
        "id": "5qST0vIdHLIB"
      },
      "execution_count": null,
      "outputs": []
    },
    {
      "cell_type": "code",
      "source": [
        "print(training_images.shape)\n",
        "print(training_labels.shape)\n",
        "print(test_images.shape)\n",
        "print(test_labels.shape)"
      ],
      "metadata": {
        "colab": {
          "base_uri": "https://localhost:8080/"
        },
        "id": "2RAtVLrlHNHD",
        "outputId": "aca3f88b-c6c5-4c10-c8e7-87fe84dff696"
      },
      "execution_count": null,
      "outputs": [
        {
          "output_type": "stream",
          "name": "stdout",
          "text": [
            "(18992, 60, 60, 3)\n",
            "(18992,)\n",
            "(890, 60, 60, 3)\n",
            "(890,)\n"
          ]
        }
      ]
    },
    {
      "cell_type": "code",
      "source": [
        "model = tf.keras.Sequential([\n",
        "    tf.keras.layers.Conv2D(256, (3, 3), activation = 'relu', input_shape = (60, 60, 3)), \n",
        "    tf.keras.layers.MaxPooling2D(2,2),\n",
        "    tf.keras.layers.Conv2D(128, (3, 3), activation = 'relu'),\n",
        "    tf.keras.layers.MaxPooling2D(2,2),\n",
        "    tf.keras.layers.Conv2D(64, (3, 3), activation = 'relu'),\n",
        "    tf.keras.layers.MaxPooling2D(2,2),\n",
        "    tf.keras.layers.Dense(32, activation = 'relu'),\n",
        "    tf.keras.layers.Flatten(),\n",
        "    tf.keras.layers.Dense(18, activation = 'softmax')  \n",
        "])"
      ],
      "metadata": {
        "id": "O8nYYUFaHOaw"
      },
      "execution_count": null,
      "outputs": []
    },
    {
      "cell_type": "code",
      "source": [
        "model.compile(optimizer = 'adam', loss = 'sparse_categorical_crossentropy', metrics = ['accuracy'])"
      ],
      "metadata": {
        "id": "zgZJLeesHP4q"
      },
      "execution_count": null,
      "outputs": []
    },
    {
      "cell_type": "code",
      "source": [
        "history = model.fit(training_images, training_labels, batch_size = 64, epochs = 30, validation_data = (test_images,test_labels))"
      ],
      "metadata": {
        "colab": {
          "base_uri": "https://localhost:8080/"
        },
        "id": "trs-d23IHRZ4",
        "outputId": "811328e9-c7b7-4c74-a559-abf64172f2cd"
      },
      "execution_count": null,
      "outputs": [
        {
          "output_type": "stream",
          "name": "stdout",
          "text": [
            "Epoch 1/30\n",
            "297/297 [==============================] - 11s 37ms/step - loss: 2.1383 - accuracy: 0.3463 - val_loss: 1.7700 - val_accuracy: 0.4910\n",
            "Epoch 2/30\n",
            "297/297 [==============================] - 10s 34ms/step - loss: 1.4174 - accuracy: 0.5809 - val_loss: 1.2831 - val_accuracy: 0.6348\n",
            "Epoch 3/30\n",
            "297/297 [==============================] - 10s 34ms/step - loss: 1.0771 - accuracy: 0.6804 - val_loss: 0.9943 - val_accuracy: 0.7101\n",
            "Epoch 4/30\n",
            "297/297 [==============================] - 10s 34ms/step - loss: 0.8758 - accuracy: 0.7403 - val_loss: 0.7861 - val_accuracy: 0.7809\n",
            "Epoch 5/30\n",
            "297/297 [==============================] - 10s 34ms/step - loss: 0.7360 - accuracy: 0.7818 - val_loss: 0.6984 - val_accuracy: 0.8011\n",
            "Epoch 6/30\n",
            "297/297 [==============================] - 10s 34ms/step - loss: 0.6256 - accuracy: 0.8143 - val_loss: 0.5708 - val_accuracy: 0.8337\n",
            "Epoch 7/30\n",
            "297/297 [==============================] - 10s 34ms/step - loss: 0.5420 - accuracy: 0.8405 - val_loss: 0.4861 - val_accuracy: 0.8494\n",
            "Epoch 8/30\n",
            "297/297 [==============================] - 10s 34ms/step - loss: 0.4724 - accuracy: 0.8583 - val_loss: 0.3960 - val_accuracy: 0.8787\n",
            "Epoch 9/30\n",
            "297/297 [==============================] - 10s 34ms/step - loss: 0.4067 - accuracy: 0.8791 - val_loss: 0.3848 - val_accuracy: 0.8775\n",
            "Epoch 10/30\n",
            "297/297 [==============================] - 10s 34ms/step - loss: 0.3652 - accuracy: 0.8894 - val_loss: 0.3478 - val_accuracy: 0.8843\n",
            "Epoch 11/30\n",
            "297/297 [==============================] - 10s 34ms/step - loss: 0.3095 - accuracy: 0.9054 - val_loss: 0.3215 - val_accuracy: 0.9000\n",
            "Epoch 12/30\n",
            "297/297 [==============================] - 10s 34ms/step - loss: 0.2721 - accuracy: 0.9186 - val_loss: 0.3085 - val_accuracy: 0.8955\n",
            "Epoch 13/30\n",
            "297/297 [==============================] - 10s 34ms/step - loss: 0.2356 - accuracy: 0.9271 - val_loss: 0.2325 - val_accuracy: 0.9236\n",
            "Epoch 14/30\n",
            "297/297 [==============================] - 10s 34ms/step - loss: 0.2026 - accuracy: 0.9382 - val_loss: 0.1759 - val_accuracy: 0.9506\n",
            "Epoch 15/30\n",
            "297/297 [==============================] - 10s 34ms/step - loss: 0.1781 - accuracy: 0.9467 - val_loss: 0.1471 - val_accuracy: 0.9517\n",
            "Epoch 16/30\n",
            "297/297 [==============================] - 10s 34ms/step - loss: 0.1511 - accuracy: 0.9534 - val_loss: 0.1388 - val_accuracy: 0.9562\n",
            "Epoch 17/30\n",
            "297/297 [==============================] - 10s 34ms/step - loss: 0.1493 - accuracy: 0.9543 - val_loss: 0.1320 - val_accuracy: 0.9483\n",
            "Epoch 18/30\n",
            "297/297 [==============================] - 10s 34ms/step - loss: 0.1006 - accuracy: 0.9702 - val_loss: 0.1092 - val_accuracy: 0.9697\n",
            "Epoch 19/30\n",
            "297/297 [==============================] - 10s 34ms/step - loss: 0.0993 - accuracy: 0.9689 - val_loss: 0.1536 - val_accuracy: 0.9461\n",
            "Epoch 20/30\n",
            "297/297 [==============================] - 10s 34ms/step - loss: 0.1036 - accuracy: 0.9666 - val_loss: 0.0970 - val_accuracy: 0.9742\n",
            "Epoch 21/30\n",
            "297/297 [==============================] - 10s 34ms/step - loss: 0.1019 - accuracy: 0.9667 - val_loss: 0.0834 - val_accuracy: 0.9685\n",
            "Epoch 22/30\n",
            "297/297 [==============================] - 10s 34ms/step - loss: 0.0950 - accuracy: 0.9685 - val_loss: 0.0771 - val_accuracy: 0.9685\n",
            "Epoch 23/30\n",
            "297/297 [==============================] - 10s 34ms/step - loss: 0.0622 - accuracy: 0.9799 - val_loss: 0.0850 - val_accuracy: 0.9753\n",
            "Epoch 24/30\n",
            "297/297 [==============================] - 10s 34ms/step - loss: 0.0597 - accuracy: 0.9797 - val_loss: 0.0792 - val_accuracy: 0.9719\n",
            "Epoch 25/30\n",
            "297/297 [==============================] - 10s 34ms/step - loss: 0.0796 - accuracy: 0.9733 - val_loss: 0.0963 - val_accuracy: 0.9629\n",
            "Epoch 26/30\n",
            "297/297 [==============================] - 10s 34ms/step - loss: 0.0589 - accuracy: 0.9811 - val_loss: 0.1056 - val_accuracy: 0.9629\n",
            "Epoch 27/30\n",
            "297/297 [==============================] - 10s 34ms/step - loss: 0.0524 - accuracy: 0.9836 - val_loss: 0.0865 - val_accuracy: 0.9685\n",
            "Epoch 28/30\n",
            "297/297 [==============================] - 10s 34ms/step - loss: 0.0680 - accuracy: 0.9778 - val_loss: 0.1104 - val_accuracy: 0.9551\n",
            "Epoch 29/30\n",
            "297/297 [==============================] - 10s 34ms/step - loss: 0.0648 - accuracy: 0.9797 - val_loss: 0.0939 - val_accuracy: 0.9640\n",
            "Epoch 30/30\n",
            "297/297 [==============================] - 10s 34ms/step - loss: 0.0628 - accuracy: 0.9791 - val_loss: 0.0962 - val_accuracy: 0.9708\n"
          ]
        }
      ]
    },
    {
      "cell_type": "code",
      "source": [
        "plot_accuracy_loss(history)"
      ],
      "metadata": {
        "colab": {
          "base_uri": "https://localhost:8080/",
          "height": 325
        },
        "id": "smaQe8nMHW8h",
        "outputId": "27b500a0-c3bf-4801-ff35-2732425220fc"
      },
      "execution_count": null,
      "outputs": [
        {
          "output_type": "display_data",
          "data": {
            "text/plain": [
              "<Figure size 1080x720 with 2 Axes>"
            ],
            "image/png": "[encoded data removed]"
          },
          "metadata": {
            "needs_background": "light"
          }
        }
      ]
    },
    {
      "cell_type": "code",
      "source": [
        "classifications = model.predict(test_images)"
      ],
      "metadata": {
        "id": "q5Pw4BQNHYim"
      },
      "execution_count": null,
      "outputs": []
    },
    {
      "cell_type": "code",
      "source": [
        "plt.imshow(test_images[0])"
      ],
      "metadata": {
        "colab": {
          "base_uri": "https://localhost:8080/",
          "height": 285
        },
        "id": "cH3M43rQHaDv",
        "outputId": "211c9f86-dcaf-48fd-d417-22c16f3856c6"
      },
      "execution_count": null,
      "outputs": [
        {
          "output_type": "execute_result",
          "data": {
            "text/plain": [
              "<matplotlib.image.AxesImage at 0x7fcf96201150>"
            ]
          },
          "metadata": {},
          "execution_count": 27
        },
        {
          "output_type": "display_data",
          "data": {
            "text/plain": [
              "<Figure size 432x288 with 1 Axes>"
            ],
            "image/png": "[encoded data removed]"
          },
          "metadata": {
            "needs_background": "light"
          }
        }
      ]
    },
    {
      "cell_type": "code",
      "source": [
        "print('Posición del valor más alto:', np.argmax(classifications[0]))\n",
        "print(MAP_CHARACTERS[test_labels[0]])"
      ],
      "metadata": {
        "colab": {
          "base_uri": "https://localhost:8080/"
        },
        "id": "rDlJyX0aHbfc",
        "outputId": "5a839a8f-6d51-4e76-e268-f141681b69b4"
      },
      "execution_count": null,
      "outputs": [
        {
          "output_type": "stream",
          "name": "stdout",
          "text": [
            "Posición del valor más alto: 11\n",
            "marge_simpson\n"
          ]
        }
      ]
    },
    {
      "cell_type": "code",
      "source": [
        "model = tf.keras.Sequential([\n",
        "    tf.keras.layers.Flatten(input_shape = (60, 60, 3)),\n",
        "    tf.keras.layers.Dense(256, activation='relu'),\n",
        "    tf.keras.layers.Dense(128, activation='relu'),\n",
        "    tf.keras.layers.Dense(64, activation='relu'),\n",
        "    tf.keras.layers.Dense(32, activation='relu'),\n",
        "    tf.keras.layers.Dense(18, activation = 'softmax')  \n",
        "])"
      ],
      "metadata": {
        "id": "tOAEnEeyhucb"
      },
      "execution_count": null,
      "outputs": []
    },
    {
      "cell_type": "code",
      "source": [
        "model.compile(optimizer = 'adam', loss = 'sparse_categorical_crossentropy', metrics = ['accuracy'])"
      ],
      "metadata": {
        "id": "ypA5FP4RiPUx"
      },
      "execution_count": null,
      "outputs": []
    },
    {
      "cell_type": "code",
      "source": [
        "history = model.fit(training_images, training_labels, batch_size = 64, epochs = 30)"
      ],
      "metadata": {
        "id": "_Zzg6LHBiSvn"
      },
      "execution_count": null,
      "outputs": []
    },
    {
      "cell_type": "code",
      "source": [
        "classifications = model.predict(test_images)"
      ],
      "metadata": {
        "id": "W5PSll7xiXu4"
      },
      "execution_count": null,
      "outputs": []
    },
    {
      "cell_type": "code",
      "source": [
        "print('Posición del valor más alto:', np.argmax(classifications[0]))\n",
        "print(MAP_CHARACTERS[test_labels[0]])\n",
        "print(MAP_CHARACTERS[classifications[0]])"
      ],
      "metadata": {
        "id": "h2ZYs4p3iaR2"
      },
      "execution_count": null,
      "outputs": []
    },
    {
      "cell_type": "markdown",
      "source": [
        "## Codigo Joaquin\n"
      ],
      "metadata": {
        "id": "rIL5wpgtNxgG"
      }
    },
    {
      "cell_type": "code",
      "source": [
        "training_images  = X\n",
        "training_labels = y\n",
        "test_images = X_t\n",
        "test_labels = y_t\n",
        "\n",
        "training_images  = training_images / 255.0\n",
        "test_images = test_images / 255.0"
      ],
      "metadata": {
        "id": "uO6DxZewNyN0"
      },
      "execution_count": null,
      "outputs": []
    },
    {
      "cell_type": "code",
      "source": [
        "model = tf.keras.Sequential([\n",
        "    tf.keras.layers.Conv2D(512, (3, 3), activation = 'relu', input_shape = (60, 60, 3)), \n",
        "    tf.keras.layers.MaxPooling2D(2,2),\n",
        "    tf.keras.layers.Dropout(0.2),\n",
        "    tf.keras.layers.Conv2D(128, (3, 3), activation = 'relu'),\n",
        "    tf.keras.layers.MaxPooling2D(2,2),\n",
        "    tf.keras.layers.Dropout(0.2),\n",
        "    tf.keras.layers.Conv2D(64, (3, 3), activation = 'relu'),\n",
        "    tf.keras.layers.MaxPooling2D(2,2),\n",
        "    tf.keras.layers.Dropout(0.2),\n",
        "    tf.keras.layers.Dense(32, activation = 'relu'),\n",
        "    tf.keras.layers.Dropout(0.2),\n",
        "    tf.keras.layers.Flatten(),\n",
        "    tf.keras.layers.Dense(18, activation = 'softmax')  \n",
        "])\n",
        "model.compile(optimizer = 'adam', loss = 'sparse_categorical_crossentropy', metrics = ['accuracy'])"
      ],
      "metadata": {
        "id": "etYBotdaN212"
      },
      "execution_count": null,
      "outputs": []
    },
    {
      "cell_type": "code",
      "source": [
        "history = model.fit(training_images, training_labels, batch_size = 16, epochs = 50, validation_split=0.3)"
      ],
      "metadata": {
        "colab": {
          "base_uri": "https://localhost:8080/"
        },
        "id": "9yU-u4noN4ck",
        "outputId": "332bc270-e7b5-4e97-f7bf-79c499b6a7f6"
      },
      "execution_count": null,
      "outputs": [
        {
          "output_type": "stream",
          "name": "stdout",
          "text": [
            "Epoch 1/50\n",
            "831/831 [==============================] - 19s 23ms/step - loss: 1.8811 - accuracy: 0.3845 - val_loss: 12.6938 - val_accuracy: 0.0205\n",
            "Epoch 2/50\n",
            "831/831 [==============================] - 19s 22ms/step - loss: 1.2683 - accuracy: 0.5946 - val_loss: 11.9375 - val_accuracy: 0.0388\n",
            "Epoch 3/50\n",
            "831/831 [==============================] - 19s 22ms/step - loss: 0.9766 - accuracy: 0.6868 - val_loss: 12.9553 - val_accuracy: 0.0519\n",
            "Epoch 4/50\n",
            "831/831 [==============================] - 19s 22ms/step - loss: 0.8316 - accuracy: 0.7306 - val_loss: 12.8295 - val_accuracy: 0.0560\n",
            "Epoch 5/50\n",
            "831/831 [==============================] - 19s 22ms/step - loss: 0.7235 - accuracy: 0.7639 - val_loss: 13.9856 - val_accuracy: 0.0551\n",
            "Epoch 6/50\n",
            "831/831 [==============================] - 19s 22ms/step - loss: 0.6282 - accuracy: 0.7967 - val_loss: 14.5107 - val_accuracy: 0.0555\n",
            "Epoch 7/50\n",
            "831/831 [==============================] - 19s 23ms/step - loss: 0.5715 - accuracy: 0.8177 - val_loss: 14.2421 - val_accuracy: 0.0527\n",
            "Epoch 8/50\n",
            "831/831 [==============================] - 19s 22ms/step - loss: 0.5232 - accuracy: 0.8351 - val_loss: 14.9536 - val_accuracy: 0.0565\n",
            "Epoch 9/50\n",
            "831/831 [==============================] - 19s 22ms/step - loss: 0.4807 - accuracy: 0.8439 - val_loss: 17.6490 - val_accuracy: 0.0586\n",
            "Epoch 10/50\n",
            "831/831 [==============================] - 19s 23ms/step - loss: 0.4490 - accuracy: 0.8589 - val_loss: 17.2960 - val_accuracy: 0.0586\n",
            "Epoch 11/50\n",
            "831/831 [==============================] - 19s 23ms/step - loss: 0.4290 - accuracy: 0.8644 - val_loss: 17.4253 - val_accuracy: 0.0577\n",
            "Epoch 12/50\n",
            "831/831 [==============================] - 19s 23ms/step - loss: 0.4016 - accuracy: 0.8708 - val_loss: 19.0185 - val_accuracy: 0.0553\n",
            "Epoch 13/50\n",
            "831/831 [==============================] - 19s 23ms/step - loss: 0.3839 - accuracy: 0.8769 - val_loss: 17.6953 - val_accuracy: 0.0593\n",
            "Epoch 14/50\n",
            "831/831 [==============================] - 19s 22ms/step - loss: 0.3596 - accuracy: 0.8839 - val_loss: 19.2250 - val_accuracy: 0.0583\n",
            "Epoch 15/50\n",
            "831/831 [==============================] - 19s 22ms/step - loss: 0.3503 - accuracy: 0.8851 - val_loss: 20.2225 - val_accuracy: 0.0583\n",
            "Epoch 16/50\n",
            "831/831 [==============================] - 19s 22ms/step - loss: 0.3366 - accuracy: 0.8918 - val_loss: 18.4919 - val_accuracy: 0.0567\n",
            "Epoch 17/50\n",
            "831/831 [==============================] - 21s 25ms/step - loss: 0.3359 - accuracy: 0.8918 - val_loss: 19.8726 - val_accuracy: 0.0584\n",
            "Epoch 18/50\n",
            "831/831 [==============================] - 21s 25ms/step - loss: 0.3212 - accuracy: 0.8956 - val_loss: 23.2442 - val_accuracy: 0.0570\n",
            "Epoch 19/50\n",
            "831/831 [==============================] - 19s 23ms/step - loss: 0.3076 - accuracy: 0.8985 - val_loss: 19.7222 - val_accuracy: 0.0579\n",
            "Epoch 20/50\n",
            "831/831 [==============================] - 21s 25ms/step - loss: 0.3001 - accuracy: 0.9036 - val_loss: 21.8548 - val_accuracy: 0.0586\n",
            "Epoch 21/50\n",
            "831/831 [==============================] - 19s 22ms/step - loss: 0.3002 - accuracy: 0.9006 - val_loss: 24.0323 - val_accuracy: 0.0595\n",
            "Epoch 22/50\n",
            "831/831 [==============================] - 18s 22ms/step - loss: 0.2707 - accuracy: 0.9114 - val_loss: 21.9495 - val_accuracy: 0.0598\n",
            "Epoch 23/50\n",
            "831/831 [==============================] - 18s 22ms/step - loss: 0.2864 - accuracy: 0.9056 - val_loss: 21.6522 - val_accuracy: 0.0586\n",
            "Epoch 24/50\n",
            "831/831 [==============================] - 19s 22ms/step - loss: 0.2770 - accuracy: 0.9078 - val_loss: 23.9725 - val_accuracy: 0.0598\n",
            "Epoch 25/50\n",
            "831/831 [==============================] - 19s 22ms/step - loss: 0.2593 - accuracy: 0.9157 - val_loss: 23.8126 - val_accuracy: 0.0595\n",
            "Epoch 26/50\n",
            "831/831 [==============================] - 19s 22ms/step - loss: 0.2658 - accuracy: 0.9142 - val_loss: 22.3837 - val_accuracy: 0.0597\n",
            "Epoch 27/50\n",
            "831/831 [==============================] - 19s 22ms/step - loss: 0.2523 - accuracy: 0.9187 - val_loss: 23.5456 - val_accuracy: 0.0577\n",
            "Epoch 28/50\n",
            "831/831 [==============================] - 19s 22ms/step - loss: 0.2546 - accuracy: 0.9148 - val_loss: 23.8067 - val_accuracy: 0.0593\n",
            "Epoch 29/50\n",
            "831/831 [==============================] - 19s 22ms/step - loss: 0.2490 - accuracy: 0.9184 - val_loss: 23.4726 - val_accuracy: 0.0584\n",
            "Epoch 30/50\n",
            "831/831 [==============================] - 18s 22ms/step - loss: 0.2436 - accuracy: 0.9207 - val_loss: 22.6458 - val_accuracy: 0.0602\n",
            "Epoch 31/50\n",
            "831/831 [==============================] - 19s 22ms/step - loss: 0.2436 - accuracy: 0.9188 - val_loss: 26.1913 - val_accuracy: 0.0588\n",
            "Epoch 32/50\n",
            "831/831 [==============================] - 19s 22ms/step - loss: 0.2360 - accuracy: 0.9216 - val_loss: 23.5873 - val_accuracy: 0.0567\n",
            "Epoch 33/50\n",
            "831/831 [==============================] - 19s 22ms/step - loss: 0.2315 - accuracy: 0.9268 - val_loss: 24.0295 - val_accuracy: 0.0588\n",
            "Epoch 34/50\n",
            "831/831 [==============================] - 18s 22ms/step - loss: 0.2277 - accuracy: 0.9257 - val_loss: 28.0966 - val_accuracy: 0.0609\n",
            "Epoch 35/50\n",
            "831/831 [==============================] - 19s 22ms/step - loss: 0.2186 - accuracy: 0.9298 - val_loss: 26.1229 - val_accuracy: 0.0583\n",
            "Epoch 36/50\n",
            "831/831 [==============================] - 19s 22ms/step - loss: 0.2274 - accuracy: 0.9261 - val_loss: 24.1036 - val_accuracy: 0.0591\n",
            "Epoch 37/50\n",
            "831/831 [==============================] - 19s 22ms/step - loss: 0.1998 - accuracy: 0.9348 - val_loss: 26.9057 - val_accuracy: 0.0590\n",
            "Epoch 38/50\n",
            "831/831 [==============================] - 19s 22ms/step - loss: 0.2102 - accuracy: 0.9293 - val_loss: 23.9771 - val_accuracy: 0.0611\n",
            "Epoch 39/50\n",
            "831/831 [==============================] - 19s 22ms/step - loss: 0.1971 - accuracy: 0.9356 - val_loss: 25.3017 - val_accuracy: 0.0609\n",
            "Epoch 40/50\n",
            "831/831 [==============================] - 21s 25ms/step - loss: 0.2135 - accuracy: 0.9321 - val_loss: 24.6260 - val_accuracy: 0.0598\n",
            "Epoch 41/50\n",
            "831/831 [==============================] - 19s 23ms/step - loss: 0.2040 - accuracy: 0.9343 - val_loss: 25.0415 - val_accuracy: 0.0611\n",
            "Epoch 42/50\n",
            "831/831 [==============================] - 21s 25ms/step - loss: 0.2071 - accuracy: 0.9318 - val_loss: 23.8728 - val_accuracy: 0.0590\n",
            "Epoch 43/50\n",
            "831/831 [==============================] - 19s 22ms/step - loss: 0.1975 - accuracy: 0.9350 - val_loss: 23.6644 - val_accuracy: 0.0604\n",
            "Epoch 44/50\n",
            "831/831 [==============================] - 19s 22ms/step - loss: 0.2042 - accuracy: 0.9351 - val_loss: 23.4981 - val_accuracy: 0.0598\n",
            "Epoch 45/50\n",
            "831/831 [==============================] - 19s 22ms/step - loss: 0.1967 - accuracy: 0.9376 - val_loss: 28.0851 - val_accuracy: 0.0591\n",
            "Epoch 46/50\n",
            "831/831 [==============================] - 19s 22ms/step - loss: 0.2015 - accuracy: 0.9354 - val_loss: 26.9406 - val_accuracy: 0.0591\n",
            "Epoch 47/50\n",
            "831/831 [==============================] - 21s 25ms/step - loss: 0.2036 - accuracy: 0.9334 - val_loss: 27.5777 - val_accuracy: 0.0616\n",
            "Epoch 48/50\n",
            "831/831 [==============================] - 19s 22ms/step - loss: 0.1912 - accuracy: 0.9382 - val_loss: 30.3482 - val_accuracy: 0.0597\n",
            "Epoch 49/50\n",
            "831/831 [==============================] - 21s 25ms/step - loss: 0.1894 - accuracy: 0.9397 - val_loss: 30.7466 - val_accuracy: 0.0595\n",
            "Epoch 50/50\n",
            "831/831 [==============================] - 19s 22ms/step - loss: 0.2037 - accuracy: 0.9343 - val_loss: 26.7397 - val_accuracy: 0.0590\n"
          ]
        }
      ]
    },
    {
      "cell_type": "code",
      "source": [
        "plot_accuracy_loss(history)"
      ],
      "metadata": {
        "colab": {
          "base_uri": "https://localhost:8080/",
          "height": 325
        },
        "id": "1oFXqiQ6N7N7",
        "outputId": "4620aad1-ae69-4231-e05b-cac33700bac7"
      },
      "execution_count": null,
      "outputs": [
        {
          "output_type": "display_data",
          "data": {
            "text/plain": [
              "<Figure size 1080x720 with 2 Axes>"
            ],
            "image/png": "[encoded data removed]"
          },
          "metadata": {
            "needs_background": "light"
          }
        }
      ]
    },
    {
      "cell_type": "code",
      "source": [
        "classifications = model.predict(test_images)"
      ],
      "metadata": {
        "id": "X-ebJ7wzN6zt"
      },
      "execution_count": null,
      "outputs": []
    },
    {
      "cell_type": "code",
      "source": [
        "plt.imshow(test_images[11])"
      ],
      "metadata": {
        "colab": {
          "base_uri": "https://localhost:8080/",
          "height": 285
        },
        "id": "LR--DLxuOowW",
        "outputId": "f003ab3b-d3d9-4480-9a0a-d1f88f3d086d"
      },
      "execution_count": null,
      "outputs": [
        {
          "output_type": "execute_result",
          "data": {
            "text/plain": [
              "<matplotlib.image.AxesImage at 0x7fb364252d10>"
            ]
          },
          "metadata": {},
          "execution_count": 25
        },
        {
          "output_type": "display_data",
          "data": {
            "text/plain": [
              "<Figure size 432x288 with 1 Axes>"
            ],
            "image/png": "[encoded data removed]"
          },
          "metadata": {
            "needs_background": "light"
          }
        }
      ]
    },
    {
      "cell_type": "code",
      "source": [
        "print('Posición del valor más alto:', np.argmax(classifications[0]))\n",
        "print(MAP_CHARACTERS[test_labels[11]])"
      ],
      "metadata": {
        "colab": {
          "base_uri": "https://localhost:8080/"
        },
        "id": "bAq676q4OqEY",
        "outputId": "ae344493-04ca-492b-c82e-895878523e2f"
      },
      "execution_count": null,
      "outputs": [
        {
          "output_type": "stream",
          "name": "stdout",
          "text": [
            "Posición del valor más alto: 0\n",
            "ned_flanders\n"
          ]
        }
      ]
    },
    {
      "cell_type": "code",
      "source": [
        "model = tf.keras.Sequential([\n",
        "    tf.keras.layers.Conv2D(512, (3, 3), activation = 'relu', input_shape = (60, 60, 3)), \n",
        "    tf.keras.layers.MaxPooling2D(2,2),\n",
        "    tf.keras.layers.Dropout(0.2),\n",
        "    tf.keras.layers.Conv2D(256, (3, 3), activation = 'relu', input_shape = (60, 60, 3)), \n",
        "    tf.keras.layers.MaxPooling2D(2,2),\n",
        "    tf.keras.layers.Dropout(0.2),\n",
        "    tf.keras.layers.Conv2D(128, (3, 3), activation = 'relu'),\n",
        "    tf.keras.layers.MaxPooling2D(2,2),\n",
        "    tf.keras.layers.Dropout(0.2),\n",
        "    tf.keras.layers.Conv2D(64, (3, 3), activation = 'relu'),\n",
        "    tf.keras.layers.MaxPooling2D(2,2),\n",
        "    tf.keras.layers.Dropout(0.2),\n",
        "    tf.keras.layers.Dense(32, activation = 'relu'),\n",
        "    tf.keras.layers.Dropout(0.2),\n",
        "    tf.keras.layers.Flatten(),\n",
        "    tf.keras.layers.Dense(18, activation = 'softmax')  \n",
        "])\n",
        "model.compile(optimizer = 'adam', loss = 'sparse_categorical_crossentropy', metrics = ['accuracy'])"
      ],
      "metadata": {
        "id": "5TQEPAu6T0GV"
      },
      "execution_count": null,
      "outputs": []
    },
    {
      "cell_type": "code",
      "source": [
        "history = model.fit(training_images, training_labels, batch_size = 16, epochs = 30, validation_data = (test_images,test_labels))"
      ],
      "metadata": {
        "colab": {
          "base_uri": "https://localhost:8080/"
        },
        "id": "w9RlS3tqT2G0",
        "outputId": "3359c2cf-5f2a-47da-b222-39f9a9566ad8"
      },
      "execution_count": null,
      "outputs": [
        {
          "output_type": "stream",
          "name": "stdout",
          "text": [
            "Epoch 1/30\n",
            "1187/1187 [==============================] - 28s 23ms/step - loss: 2.5735 - accuracy: 0.1864 - val_loss: 2.2485 - val_accuracy: 0.3191\n",
            "Epoch 2/30\n",
            "1187/1187 [==============================] - 27s 23ms/step - loss: 1.8516 - accuracy: 0.4232 - val_loss: 1.5414 - val_accuracy: 0.5022\n",
            "Epoch 3/30\n",
            "1187/1187 [==============================] - 27s 22ms/step - loss: 1.4428 - accuracy: 0.5535 - val_loss: 1.1348 - val_accuracy: 0.6416\n",
            "Epoch 4/30\n",
            "1187/1187 [==============================] - 27s 23ms/step - loss: 1.2316 - accuracy: 0.6189 - val_loss: 1.0396 - val_accuracy: 0.6764\n",
            "Epoch 5/30\n",
            "1187/1187 [==============================] - 27s 23ms/step - loss: 1.0648 - accuracy: 0.6671 - val_loss: 0.8641 - val_accuracy: 0.7303\n",
            "Epoch 6/30\n",
            "1187/1187 [==============================] - 27s 23ms/step - loss: 0.9628 - accuracy: 0.7025 - val_loss: 0.7979 - val_accuracy: 0.7416\n",
            "Epoch 7/30\n",
            "1187/1187 [==============================] - 27s 23ms/step - loss: 0.8729 - accuracy: 0.7314 - val_loss: 0.6768 - val_accuracy: 0.7899\n",
            "Epoch 8/30\n",
            "1187/1187 [==============================] - 27s 23ms/step - loss: 0.8194 - accuracy: 0.7482 - val_loss: 0.6605 - val_accuracy: 0.7865\n",
            "Epoch 9/30\n",
            "1187/1187 [==============================] - 27s 22ms/step - loss: 0.7617 - accuracy: 0.7660 - val_loss: 0.5910 - val_accuracy: 0.8213\n",
            "Epoch 10/30\n",
            "1187/1187 [==============================] - 27s 22ms/step - loss: 0.7216 - accuracy: 0.7799 - val_loss: 0.5449 - val_accuracy: 0.8247\n",
            "Epoch 11/30\n",
            "1187/1187 [==============================] - 27s 23ms/step - loss: 0.6863 - accuracy: 0.7905 - val_loss: 0.4516 - val_accuracy: 0.8607\n",
            "Epoch 12/30\n",
            "1187/1187 [==============================] - 27s 23ms/step - loss: 0.6586 - accuracy: 0.7994 - val_loss: 0.4480 - val_accuracy: 0.8674\n",
            "Epoch 13/30\n",
            "1187/1187 [==============================] - 27s 22ms/step - loss: 0.6214 - accuracy: 0.8153 - val_loss: 0.4536 - val_accuracy: 0.8517\n",
            "Epoch 14/30\n",
            "1187/1187 [==============================] - 27s 23ms/step - loss: 0.6115 - accuracy: 0.8173 - val_loss: 0.4122 - val_accuracy: 0.8787\n",
            "Epoch 15/30\n",
            "1187/1187 [==============================] - 27s 23ms/step - loss: 0.5889 - accuracy: 0.8222 - val_loss: 0.3987 - val_accuracy: 0.8753\n",
            "Epoch 16/30\n",
            "1187/1187 [==============================] - 27s 23ms/step - loss: 0.5634 - accuracy: 0.8309 - val_loss: 0.3453 - val_accuracy: 0.8978\n",
            "Epoch 17/30\n",
            "1187/1187 [==============================] - 27s 23ms/step - loss: 0.5549 - accuracy: 0.8345 - val_loss: 0.3556 - val_accuracy: 0.8955\n",
            "Epoch 18/30\n",
            "1187/1187 [==============================] - 27s 23ms/step - loss: 0.5422 - accuracy: 0.8382 - val_loss: 0.2875 - val_accuracy: 0.9101\n",
            "Epoch 19/30\n",
            "1187/1187 [==============================] - 27s 22ms/step - loss: 0.5161 - accuracy: 0.8473 - val_loss: 0.3326 - val_accuracy: 0.8944\n",
            "Epoch 20/30\n",
            "1187/1187 [==============================] - 27s 23ms/step - loss: 0.4975 - accuracy: 0.8501 - val_loss: 0.3062 - val_accuracy: 0.9000\n",
            "Epoch 21/30\n",
            "1187/1187 [==============================] - 27s 23ms/step - loss: 0.4877 - accuracy: 0.8537 - val_loss: 0.2885 - val_accuracy: 0.9034\n",
            "Epoch 22/30\n",
            "1187/1187 [==============================] - 27s 23ms/step - loss: 0.4831 - accuracy: 0.8571 - val_loss: 0.2584 - val_accuracy: 0.9225\n",
            "Epoch 23/30\n",
            "1187/1187 [==============================] - 27s 23ms/step - loss: 0.4648 - accuracy: 0.8631 - val_loss: 0.2617 - val_accuracy: 0.9135\n",
            "Epoch 24/30\n",
            "1187/1187 [==============================] - 27s 23ms/step - loss: 0.4698 - accuracy: 0.8634 - val_loss: 0.2693 - val_accuracy: 0.9169\n",
            "Epoch 25/30\n",
            "1187/1187 [==============================] - 27s 23ms/step - loss: 0.4444 - accuracy: 0.8672 - val_loss: 0.2319 - val_accuracy: 0.9281\n",
            "Epoch 26/30\n",
            "1187/1187 [==============================] - 27s 23ms/step - loss: 0.4369 - accuracy: 0.8723 - val_loss: 0.2420 - val_accuracy: 0.9315\n",
            "Epoch 27/30\n",
            "1187/1187 [==============================] - 27s 23ms/step - loss: 0.4278 - accuracy: 0.8721 - val_loss: 0.2234 - val_accuracy: 0.9337\n",
            "Epoch 28/30\n",
            "1187/1187 [==============================] - 27s 23ms/step - loss: 0.4157 - accuracy: 0.8769 - val_loss: 0.2162 - val_accuracy: 0.9416\n",
            "Epoch 29/30\n",
            "1187/1187 [==============================] - 27s 23ms/step - loss: 0.4348 - accuracy: 0.8707 - val_loss: 0.2102 - val_accuracy: 0.9348\n",
            "Epoch 30/30\n",
            "1187/1187 [==============================] - 27s 23ms/step - loss: 0.4111 - accuracy: 0.8793 - val_loss: 0.1840 - val_accuracy: 0.9404\n"
          ]
        }
      ]
    },
    {
      "cell_type": "code",
      "source": [
        "plot_accuracy_loss(history)"
      ],
      "metadata": {
        "colab": {
          "base_uri": "https://localhost:8080/",
          "height": 325
        },
        "id": "HKG3XR01ZptG",
        "outputId": "42063171-a11a-4c63-f29a-5c68c7f4710b"
      },
      "execution_count": null,
      "outputs": [
        {
          "output_type": "display_data",
          "data": {
            "text/plain": [
              "<Figure size 1080x720 with 2 Axes>"
            ],
            "image/png": "[encoded data removed]"
          },
          "metadata": {
            "needs_background": "light"
          }
        }
      ]
    },
    {
      "cell_type": "code",
      "source": [
        "plt.imshow(test_images[15])"
      ],
      "metadata": {
        "colab": {
          "base_uri": "https://localhost:8080/",
          "height": 285
        },
        "id": "z2l2F_veZwWV",
        "outputId": "6e853620-5d7f-489c-df3f-9dbca1f9f58a"
      },
      "execution_count": null,
      "outputs": [
        {
          "output_type": "execute_result",
          "data": {
            "text/plain": [
              "<matplotlib.image.AxesImage at 0x7f453debda50>"
            ]
          },
          "metadata": {},
          "execution_count": 13
        },
        {
          "output_type": "display_data",
          "data": {
            "text/plain": [
              "<Figure size 432x288 with 1 Axes>"
            ],
            "image/png": "[encoded data removed]"
          },
          "metadata": {
            "needs_background": "light"
          }
        }
      ]
    },
    {
      "cell_type": "code",
      "source": [
        "print('Posición del valor más alto:', np.argmax(classifications[15]))\n",
        "print([test_labels[15]])\n",
        "print(MAP_CHARACTERS[test_labels[15]])"
      ],
      "metadata": {
        "colab": {
          "base_uri": "https://localhost:8080/"
        },
        "id": "7_waB_85Zyvz",
        "outputId": "08283918-6488-4077-87b4-caa75c11435f"
      },
      "execution_count": null,
      "outputs": [
        {
          "output_type": "stream",
          "name": "stdout",
          "text": [
            "Posición del valor más alto: 8\n",
            "[8]\n",
            "kent_brockman\n"
          ]
        }
      ]
    }
  ]
}